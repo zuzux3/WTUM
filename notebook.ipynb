{
 "cells": [
  {
   "cell_type": "markdown",
   "metadata": {},
   "source": [
    "# Exploratory Data Analysis"
   ]
  },
  {
   "cell_type": "code",
   "execution_count": null,
   "metadata": {
    "tags": []
   },
   "outputs": [],
   "source": [
    "%pip install seaborn"
   ]
  },
  {
   "cell_type": "code",
   "execution_count": 2,
   "metadata": {
    "tags": []
   },
   "outputs": [],
   "source": [
    "import os\n",
    "import seaborn as sns\n",
    "import matplotlib.pyplot as plt\n",
    "import numpy as np"
   ]
  },
  {
   "cell_type": "code",
   "execution_count": 3,
   "metadata": {
    "tags": []
   },
   "outputs": [],
   "source": [
    "def fileCounter(directory: str):\n",
    "    lst = os.listdir(directory)\n",
    "    fileCount = len(lst)\n",
    "    \n",
    "    return fileCount"
   ]
  },
  {
   "cell_type": "code",
   "execution_count": 4,
   "metadata": {
    "tags": []
   },
   "outputs": [],
   "source": [
    "trainingPizzaPath = 'pizza-notpizza/train/pizza'\n",
    "trainingNotPizzaPath = 'pizza-notpizza/train/not_pizza'\n",
    "\n",
    "validationPizzaPath = 'pizza-notpizza/val/pizza'\n",
    "validationNotPizzaPath = 'pizza-notpizza/val/not_pizza'\n",
    "\n",
    "testingPizzaPath = 'pizza-notpizza/test/pizza'\n",
    "testingNotPizzaPath = 'pizza-notpizza/test/not_pizza'"
   ]
  },
  {
   "cell_type": "code",
   "execution_count": 5,
   "metadata": {
    "tags": []
   },
   "outputs": [
    {
     "data": {
      "text/plain": [
       "[787, 786]"
      ]
     },
     "execution_count": 5,
     "metadata": {},
     "output_type": "execute_result"
    }
   ],
   "source": [
    "trainPizzaCount = fileCounter(trainingPizzaPath)\n",
    "trainNotPizzaCount = fileCounter(trainingNotPizzaPath)\n",
    "\n",
    "training = [trainPizzaCount, trainNotPizzaCount]\n",
    "training"
   ]
  },
  {
   "cell_type": "code",
   "execution_count": 6,
   "metadata": {
    "tags": []
   },
   "outputs": [
    {
     "data": {
      "text/plain": [
       "[98, 98]"
      ]
     },
     "execution_count": 6,
     "metadata": {},
     "output_type": "execute_result"
    }
   ],
   "source": [
    "valPizzaCount = fileCounter(validationPizzaPath)\n",
    "valNotPizzaCount = fileCounter(validationNotPizzaPath)\n",
    "\n",
    "validation = [valPizzaCount, valNotPizzaCount]\n",
    "validation"
   ]
  },
  {
   "cell_type": "code",
   "execution_count": 7,
   "metadata": {
    "tags": []
   },
   "outputs": [
    {
     "data": {
      "text/plain": [
       "[99, 99]"
      ]
     },
     "execution_count": 7,
     "metadata": {},
     "output_type": "execute_result"
    }
   ],
   "source": [
    "testPizzaCount = fileCounter(testingPizzaPath)\n",
    "testNotPizzaCount = fileCounter(testingNotPizzaPath)\n",
    "\n",
    "testing = [testPizzaCount, testNotPizzaCount]\n",
    "testing"
   ]
  },
  {
   "cell_type": "code",
   "execution_count": 8,
   "metadata": {
    "tags": []
   },
   "outputs": [
    {
     "data": {
      "image/png": "[encoded data removed]",
      "text/plain": [
       "<Figure size 640x480 with 1 Axes>"
      ]
     },
     "metadata": {},
     "output_type": "display_data"
    }
   ],
   "source": [
    "classes = ['Pizza', 'Not Pizza']\n",
    "classesCount = {\n",
    "    'Training Data': training,\n",
    "    'Validation Data': validation,\n",
    "    'Testing Data': testing\n",
    "}\n",
    "\n",
    "x = np.arange(len(classes))\n",
    "width = 0.33\n",
    "multiplier = 0\n",
    "\n",
    "fig, ax = plt.subplots(layout='constrained')\n",
    "\n",
    "for dataset, eachClassCount in classesCount.items():\n",
    "    offset = width * multiplier\n",
    "    rects = ax.bar(x + offset, eachClassCount, width, label = dataset)\n",
    "    ax.bar_label(rects, padding=3)\n",
    "    multiplier += 1\n",
    "    \n",
    "ax.set_ylabel('Quantity')\n",
    "ax.set_ylabel('Class')\n",
    "ax.set_title('Pizza or Not Pizza by Dataset')\n",
    "ax.set_xticks(x + width, classes)\n",
    "ax.legend(loc = 'center', ncols = 3)\n",
    "ax.set_ylim(0, 900)\n",
    "\n",
    "plt.show()"
   ]
  },
  {
   "cell_type": "markdown",
   "metadata": {},
   "source": [
    "# First attepmt to train\n",
    "- Lasso Regularization\n",
    "- CNN Network\n",
    "- 3 x 256 x 256 input size"
   ]
  },
  {
   "cell_type": "code",
   "execution_count": 11,
   "metadata": {
    "tags": []
   },
   "outputs": [
    {
     "name": "stderr",
     "output_type": "stream",
     "text": [
      "/opt/conda/envs/sagemaker-distribution/lib/python3.10/site-packages/torchvision/datapoints/__init__.py:12: UserWarning: The torchvision.datapoints and torchvision.transforms.v2 namespaces are still Beta. While we do not expect major breaking changes, some APIs may still change according to user feedback. Please submit any feedback you may have in this issue: https://github.com/pytorch/vision/issues/6753, and you can also check out https://github.com/pytorch/vision/issues/7319 to learn more about the APIs that we suspect might involve future changes. You can silence this warning by calling torchvision.disable_beta_transforms_warning().\n",
      "  warnings.warn(_BETA_TRANSFORMS_WARNING)\n",
      "/opt/conda/envs/sagemaker-distribution/lib/python3.10/site-packages/torchvision/transforms/v2/__init__.py:54: UserWarning: The torchvision.datapoints and torchvision.transforms.v2 namespaces are still Beta. While we do not expect major breaking changes, some APIs may still change according to user feedback. Please submit any feedback you may have in this issue: https://github.com/pytorch/vision/issues/6753, and you can also check out https://github.com/pytorch/vision/issues/7319 to learn more about the APIs that we suspect might involve future changes. You can silence this warning by calling torchvision.disable_beta_transforms_warning().\n",
      "  warnings.warn(_BETA_TRANSFORMS_WARNING)\n"
     ]
    }
   ],
   "source": [
    "import torch\n",
    "import torch.nn as nn\n",
    "import torch.optim as optim\n",
    "\n",
    "import torchvision.transforms as transforms\n",
    "import torchvision.datasets as datasets\n",
    "import torchvision.transforms.functional as F\n",
    "from torchvision.transforms import v2\n",
    "\n",
    "import torchmetrics as metrics\n",
    "\n",
    "from sklearn.metrics import confusion_matrix, classification_report"
   ]
  },
  {
   "cell_type": "code",
   "execution_count": 12,
   "metadata": {
    "tags": []
   },
   "outputs": [],
   "source": [
    "trainData = 'pizza-notpizza/train'\n",
    "valData = 'pizza-notpizza/val'\n",
    "testData = 'pizza-notpizza/test'"
   ]
  },
  {
   "cell_type": "code",
   "execution_count": 13,
   "metadata": {
    "tags": []
   },
   "outputs": [],
   "source": [
    "trainTransforms = transforms.Compose([\n",
    "    transforms.Resize((224, 224)),\n",
    "    transforms.RandomHorizontalFlip(),\n",
    "    transforms.RandomVerticalFlip(),\n",
    "    transforms.RandomRotation(30),\n",
    "    transforms.ColorJitter(brightness=0.3, contrast=0.5, saturation=0.3),\n",
    "    transforms.ToTensor(),\n",
    "    transforms.Normalize([0.485, 0.456, 0.406], [0.229, 0.224, 0.225])\n",
    "])\n",
    "\n",
    "valTestTransforms = transforms.Compose([\n",
    "    transforms.Resize((224, 224)),\n",
    "    transforms.ToTensor(),\n",
    "    transforms.Normalize([0.485, 0.456, 0.406], [0.229, 0.224, 0.225])\n",
    "])\n",
    "\n",
    "trainDataset = datasets.ImageFolder(trainData, transform=trainTransforms)\n",
    "valDataset = datasets.ImageFolder(valData, transform=valTestTransforms)\n",
    "testDataset = datasets.ImageFolder(testData, transform=valTestTransforms)"
   ]
  },
  {
   "cell_type": "code",
   "execution_count": 42,
   "metadata": {
    "tags": []
   },
   "outputs": [
    {
     "name": "stdout",
     "output_type": "stream",
     "text": [
      "Class Name: not_pizza, Numeric Value: 0\n",
      "Class Name: pizza, Numeric Value: 1\n"
     ]
    }
   ],
   "source": [
    "class_to_idx = trainDataset.class_to_idx\n",
    "\n",
    "for label, value in class_to_idx.items():\n",
    "    print(f'Class Name: {label}, Numeric Value: {value}')"
   ]
  },
  {
   "cell_type": "code",
   "execution_count": 14,
   "metadata": {
    "tags": []
   },
   "outputs": [
    {
     "data": {
      "text/plain": [
       "(tensor([[[-2.1179, -2.1179, -2.1179,  ..., -2.1179, -2.1179, -2.1179],\n",
       "          [-2.1179, -2.1179, -2.1179,  ..., -2.1179, -2.1179, -2.1179],\n",
       "          [-2.1179, -2.1179, -2.1179,  ..., -2.1179, -2.1179, -2.1179],\n",
       "          ...,\n",
       "          [-2.1179, -2.1179, -2.1179,  ..., -2.1179, -2.1179, -2.1179],\n",
       "          [-2.1179, -2.1179, -2.1179,  ..., -2.1179, -2.1179, -2.1179],\n",
       "          [-2.1179, -2.1179, -2.1179,  ..., -2.1179, -2.1179, -2.1179]],\n",
       " \n",
       "         [[-2.0357, -2.0357, -2.0357,  ..., -2.0357, -2.0357, -2.0357],\n",
       "          [-2.0357, -2.0357, -2.0357,  ..., -2.0357, -2.0357, -2.0357],\n",
       "          [-2.0357, -2.0357, -2.0357,  ..., -2.0357, -2.0357, -2.0357],\n",
       "          ...,\n",
       "          [-2.0357, -2.0357, -2.0357,  ..., -2.0357, -2.0357, -2.0357],\n",
       "          [-2.0357, -2.0357, -2.0357,  ..., -2.0357, -2.0357, -2.0357],\n",
       "          [-2.0357, -2.0357, -2.0357,  ..., -2.0357, -2.0357, -2.0357]],\n",
       " \n",
       "         [[-1.8044, -1.8044, -1.8044,  ..., -1.8044, -1.8044, -1.8044],\n",
       "          [-1.8044, -1.8044, -1.8044,  ..., -1.8044, -1.8044, -1.8044],\n",
       "          [-1.8044, -1.8044, -1.8044,  ..., -1.8044, -1.8044, -1.8044],\n",
       "          ...,\n",
       "          [-1.8044, -1.8044, -1.8044,  ..., -1.8044, -1.8044, -1.8044],\n",
       "          [-1.8044, -1.8044, -1.8044,  ..., -1.8044, -1.8044, -1.8044],\n",
       "          [-1.8044, -1.8044, -1.8044,  ..., -1.8044, -1.8044, -1.8044]]]),\n",
       " 0)"
      ]
     },
     "execution_count": 14,
     "metadata": {},
     "output_type": "execute_result"
    }
   ],
   "source": [
    "trainDataset[3]"
   ]
  },
  {
   "cell_type": "code",
   "execution_count": 15,
   "metadata": {
    "tags": []
   },
   "outputs": [],
   "source": [
    "BATCH_SIZE = 64\n",
    "NUM_WORKERS = 4\n",
    "LEARNING_RATE = 0.0025\n",
    "WEIGHT_DECAY = 1e-5"
   ]
  },
  {
   "cell_type": "code",
   "execution_count": 16,
   "metadata": {
    "tags": []
   },
   "outputs": [],
   "source": [
    "trainLoader = torch.utils.data.DataLoader(trainDataset, batch_size=BATCH_SIZE, shuffle=True, num_workers=NUM_WORKERS)\n",
    "valLoader = torch.utils.data.DataLoader(valDataset, batch_size=BATCH_SIZE, shuffle=True, num_workers=NUM_WORKERS)\n",
    "testLoader = torch.utils.data.DataLoader(testDataset, batch_size=BATCH_SIZE, shuffle=True, num_workers=NUM_WORKERS)"
   ]
  },
  {
   "cell_type": "code",
   "execution_count": 46,
   "metadata": {
    "tags": []
   },
   "outputs": [],
   "source": [
    "class CNN(nn.Module):\n",
    "    def __init__(self):\n",
    "        super(CNN, self).__init__()\n",
    "        self.conv1 = nn.Conv2d(3, 32, kernel_size=3, stride=1, padding=1)\n",
    "        self.conv2 = nn.Conv2d(32, 64, kernel_size=3, stride=1, padding=1)\n",
    "        self.conv3 = nn.Conv2d(64, 128, kernel_size=3, stride=1, padding=1)\n",
    "        \n",
    "        self.fc1 = nn.Linear(128 * 28 * 28, 256)\n",
    "        self.fc2 = nn.Linear(256, 128)\n",
    "        self.fc3 = nn.Linear(128, 2)\n",
    "        \n",
    "        self.dropout = nn.Dropout(0.6)\n",
    "        self.pool = nn.MaxPool2d(kernel_size=2, stride=2)\n",
    "        \n",
    "    def forward(self, x):\n",
    "        x = self.pool(nn.functional.leaky_relu(self.conv1(x)))\n",
    "        x = self.pool(nn.functional.leaky_relu(self.conv2(x)))\n",
    "        x = self.pool(nn.functional.leaky_relu(self.conv3(x)))\n",
    "        \n",
    "        x = x.view(x.size(0), -1)\n",
    "        \n",
    "        x = nn.functional.leaky_relu(self.fc1(x))\n",
    "        x = self.dropout(x)\n",
    "        x = nn.functional.leaky_relu(self.fc2(x))\n",
    "        x = self.dropout(x)\n",
    "        x = self.fc3(x)\n",
    "        \n",
    "        return x"
   ]
  },
  {
   "cell_type": "code",
   "execution_count": 20,
   "metadata": {
    "tags": []
   },
   "outputs": [],
   "source": [
    "def trainingLoop(optimizer, model, criterion, trainLoader, valLoader, trainLossHistory, epochs = 50, patience=5, minDelta = 0.001):\n",
    "    bestValLoss = float('inf')\n",
    "    epochNoImprove = 0\n",
    "    \n",
    "    for epoch in range(epochs):\n",
    "        model.train()\n",
    "        trainLoss = 0.0\n",
    "        \n",
    "        for i, data in enumerate(trainLoader, 0):\n",
    "            inputs, labels = data\n",
    "            inputs, labels = inputs.to(device), labels.to(device)\n",
    "            \n",
    "            optimizer.zero_grad()\n",
    "            outputs = model(inputs)\n",
    "            loss = criterion(outputs, labels)\n",
    "            loss.backward()\n",
    "            optimizer.step()\n",
    "            trainLoss += loss.item()\n",
    "        \n",
    "        epochLoss = trainLoss / len(trainLoader)\n",
    "        trainLossHistory.append(epochLoss)\n",
    "        \n",
    "        #print('epochs')\n",
    "            \n",
    "        if (epoch + 1) % 5 == 0:\n",
    "            model.eval()\n",
    "            valLoss = 0.0\n",
    "            correct = 0\n",
    "            total = 0\n",
    "            \n",
    "            with torch.no_grad():\n",
    "                for i, data in enumerate(valLoader, 0):\n",
    "                    inputs, labels = data\n",
    "                    inputs, labels = inputs.to(device), labels.to(device)\n",
    "                    \n",
    "                    outputs = model(inputs)\n",
    "                    loss = criterion(outputs, labels)\n",
    "                    preds = torch.argmax(outputs, dim=1)\n",
    "                    total += labels.shape[0]\n",
    "                    correct += int((preds == labels).sum())\n",
    "                    \n",
    "                valLoss /= len(valLoader.dataset)\n",
    "                valAcc = correct / total\n",
    "                \n",
    "            print(f'=== EPOCH {epoch+1} ===\\n    Train Loss: {epochLoss}, Validation Loss: {valLoss}, Validation Accuracy: {valAcc:.2f}\\n')\n",
    "            \n",
    "            if valLoss < bestValLoss - minDelta:\n",
    "                bestValLoss = valLoss\n",
    "                epochsNoImprove = 0\n",
    "            else:\n",
    "                epochsNoImprove += 1\n",
    "                \n",
    "            if epochsNoImprove >= patience:\n",
    "                print(f'Early Stoping triggered after {epoch + 1} epochs')\n",
    "                break"
   ]
  },
  {
   "cell_type": "code",
   "execution_count": 52,
   "metadata": {
    "tags": []
   },
   "outputs": [
    {
     "name": "stdout",
     "output_type": "stream",
     "text": [
      "=== EPOCH 5 ===\n",
      "    Train Loss: 0.6078059482574463, Validation Loss: 0.0, Validation Accuracy: 0.59\n",
      "\n",
      "=== EPOCH 10 ===\n",
      "    Train Loss: 0.5609029686450958, Validation Loss: 0.0, Validation Accuracy: 0.69\n",
      "\n",
      "=== EPOCH 15 ===\n",
      "    Train Loss: 0.5839773297309876, Validation Loss: 0.0, Validation Accuracy: 0.72\n",
      "\n",
      "=== EPOCH 20 ===\n",
      "    Train Loss: 0.44275723695755004, Validation Loss: 0.0, Validation Accuracy: 0.78\n",
      "\n",
      "=== EPOCH 25 ===\n",
      "    Train Loss: 0.4190908741950989, Validation Loss: 0.0, Validation Accuracy: 0.79\n",
      "\n",
      "=== EPOCH 30 ===\n",
      "    Train Loss: 0.4006766355037689, Validation Loss: 0.0, Validation Accuracy: 0.84\n",
      "\n",
      "Early Stoping triggered after 30 epochs\n"
     ]
    }
   ],
   "source": [
    "model = CNN()\n",
    "\n",
    "device = torch.device('cuda' if torch.cuda.is_available() else 'cpu')\n",
    "model.to(device)\n",
    "\n",
    "criterion = nn.CrossEntropyLoss()\n",
    "optimizer = optim.Adam(model.parameters(), lr=LEARNING_RATE, weight_decay=WEIGHT_DECAY)\n",
    "\n",
    "trainLossHistory = []\n",
    "\n",
    "trainingLoop(\n",
    "    optimizer,\n",
    "    model,\n",
    "    criterion,\n",
    "    trainLoader,\n",
    "    valLoader,\n",
    "    trainLossHistory\n",
    ")"
   ]
  },
  {
   "cell_type": "code",
   "execution_count": 21,
   "metadata": {
    "tags": []
   },
   "outputs": [],
   "source": [
    "def validate(model, trainLoader, valLoader):\n",
    "    model.eval()\n",
    "    \n",
    "    for name, loader in [('Train', trainLoader), ('Val', valLoader)]:\n",
    "        correct = 0\n",
    "        total = 0\n",
    "        \n",
    "        with torch.no_grad():\n",
    "            for inputs, labels in loader:\n",
    "                inputs, labels = inputs.to(device), labels.to(device)\n",
    "                outputs = model(inputs)\n",
    "                preds = torch.argmax(outputs, dim=1)\n",
    "                total += labels.shape[0]\n",
    "                correct += int((preds == labels).sum())\n",
    "                \n",
    "        print(f'{name} Accuracy: {correct / total}')"
   ]
  },
  {
   "cell_type": "code",
   "execution_count": 55,
   "metadata": {
    "tags": []
   },
   "outputs": [
    {
     "name": "stdout",
     "output_type": "stream",
     "text": [
      "Train Accuracy: 0.8397965670692944\n",
      "Val Accuracy: 0.8418367346938775\n"
     ]
    }
   ],
   "source": [
    "validate(model, trainLoader, valLoader)"
   ]
  },
  {
   "cell_type": "code",
   "execution_count": 56,
   "metadata": {
    "tags": []
   },
   "outputs": [
    {
     "data": {
      "image/png": "[encoded data removed]",
      "text/plain": [
       "<Figure size 1000x400 with 1 Axes>"
      ]
     },
     "metadata": {},
     "output_type": "display_data"
    }
   ],
   "source": [
    "plt.figure(figsize=(10,4))\n",
    "plt.plot(range(1, len(trainLossHistory) + 1), trainLossHistory, color='green', label='Training Loss')\n",
    "plt.xlabel('Epoch')\n",
    "plt.ylabel('Loss')\n",
    "plt.suptitle('Training Loss')\n",
    "plt.legend()\n",
    "\n",
    "plt.show()"
   ]
  },
  {
   "cell_type": "code",
   "execution_count": 57,
   "metadata": {
    "tags": []
   },
   "outputs": [
    {
     "name": "stdout",
     "output_type": "stream",
     "text": [
      "Accuracy of the network on the test images: 81 %\n"
     ]
    }
   ],
   "source": [
    "model.eval()\n",
    "correct = 0\n",
    "total = 0\n",
    "predicted_labels = []\n",
    "true_labels = []\n",
    "\n",
    "with torch.no_grad():\n",
    "    for data in testLoader:\n",
    "        images, labels = data\n",
    "        images, labels = images.to(device), labels.to(device)\n",
    "        outputs = model(images)\n",
    "        _, predicted = torch.max(outputs.data, 1)\n",
    "        \n",
    "        total += labels.size(0)\n",
    "        correct += (predicted == labels).sum().item()\n",
    "        \n",
    "        predicted_labels.extend(predicted.cpu().numpy())\n",
    "        true_labels.extend(labels.cpu().numpy())\n",
    "        \n",
    "acc = 100 * correct / total\n",
    "\n",
    "print('Accuracy of the network on the test images: %d %%' % acc)"
   ]
  },
  {
   "cell_type": "code",
   "execution_count": 58,
   "metadata": {
    "tags": []
   },
   "outputs": [
    {
     "data": {
      "image/png": "[encoded data removed]",
      "text/plain": [
       "<Figure size 1000x800 with 2 Axes>"
      ]
     },
     "metadata": {},
     "output_type": "display_data"
    }
   ],
   "source": [
    "conf_matrix = confusion_matrix(true_labels, predicted_labels)\n",
    "\n",
    "class_names = [str(i) for i in range(2)]\n",
    "\n",
    "plt.figure(figsize=(10, 8))\n",
    "sns.heatmap(conf_matrix, annot=True, fmt='d', cmap=sns.cubehelix_palette(as_cmap=True), xticklabels=class_names, yticklabels=class_names)\n",
    "plt.xlabel('Predicted Labels')\n",
    "plt.ylabel('True Labels')\n",
    "plt.title('CNN with Unbalanced Data vol. 1')\n",
    "plt.savefig('conf_matrix_cnn1.png')\n",
    "\n",
    "plt.show()"
   ]
  },
  {
   "cell_type": "code",
   "execution_count": 59,
   "metadata": {
    "tags": []
   },
   "outputs": [
    {
     "name": "stdout",
     "output_type": "stream",
     "text": [
      "              precision    recall  f1-score   support\n",
      "\n",
      "           0       0.86      0.75      0.80        99\n",
      "           1       0.78      0.88      0.82        99\n",
      "\n",
      "    accuracy                           0.81       198\n",
      "   macro avg       0.82      0.81      0.81       198\n",
      "weighted avg       0.82      0.81      0.81       198\n",
      "\n"
     ]
    }
   ],
   "source": [
    "report = classification_report(true_labels, predicted_labels)\n",
    "print(report)"
   ]
  },
  {
   "cell_type": "code",
   "execution_count": 60,
   "metadata": {
    "tags": []
   },
   "outputs": [
    {
     "name": "stdout",
     "output_type": "stream",
     "text": [
      "F1-Score: 82.4644546508789, Precision: 77.67857360839844, Recall: 87.8787841796875\n"
     ]
    }
   ],
   "source": [
    "f1 = metrics.classification.BinaryF1Score()\n",
    "f1_score = f1(torch.tensor(predicted_labels), torch.tensor(true_labels))\n",
    "prec = metrics.classification.BinaryPrecision()\n",
    "precision = prec(torch.tensor(predicted_labels), torch.tensor(true_labels))\n",
    "rec = metrics.classification.BinaryRecall()\n",
    "recall = rec(torch.tensor(predicted_labels), torch.tensor(true_labels))\n",
    "\n",
    "print(f'F1-Score: {f1_score * 100}, Precision: {precision * 100}, Recall: {recall * 100}')"
   ]
  },
  {
   "cell_type": "code",
   "execution_count": 62,
   "metadata": {
    "tags": []
   },
   "outputs": [],
   "source": [
    "torch.save({\n",
    "    'model_state_dict': model.state_dict(),\n",
    "    'optimizeer_state_dict': optimizer.state_dict(),\n",
    "},     'CNN_model.pth')"
   ]
  },
  {
   "cell_type": "markdown",
   "metadata": {},
   "source": [
    "## VGG16"
   ]
  },
  {
   "cell_type": "code",
   "execution_count": 17,
   "metadata": {
    "tags": []
   },
   "outputs": [],
   "source": [
    "from torchvision.models import vgg16"
   ]
  },
  {
   "cell_type": "code",
   "execution_count": 18,
   "metadata": {
    "tags": []
   },
   "outputs": [
    {
     "name": "stderr",
     "output_type": "stream",
     "text": [
      "/opt/conda/envs/sagemaker-distribution/lib/python3.10/site-packages/torchvision/models/_utils.py:208: UserWarning: The parameter 'pretrained' is deprecated since 0.13 and may be removed in the future, please use 'weights' instead.\n",
      "  warnings.warn(\n",
      "/opt/conda/envs/sagemaker-distribution/lib/python3.10/site-packages/torchvision/models/_utils.py:223: UserWarning: Arguments other than a weight enum or `None` for 'weights' are deprecated since 0.13 and may be removed in the future. The current behavior is equivalent to passing `weights=VGG16_Weights.IMAGENET1K_V1`. You can also use `weights=VGG16_Weights.DEFAULT` to get the most up-to-date weights.\n",
      "  warnings.warn(msg)\n"
     ]
    }
   ],
   "source": [
    "model = vgg16(pretrained=True)\n",
    "\n",
    "for param in model.parameters():\n",
    "    param.requires_grad = False\n",
    "    \n",
    "num_ftrs = model.classifier[6].in_features\n",
    "\n",
    "model.classifier[6] = nn.Linear(num_ftrs, 2)"
   ]
  },
  {
   "cell_type": "code",
   "execution_count": 22,
   "metadata": {
    "tags": []
   },
   "outputs": [
    {
     "name": "stdout",
     "output_type": "stream",
     "text": [
      "=== EPOCH 5 ===\n",
      "    Train Loss: 0.2525026670098305, Validation Loss: 0.0, Validation Accuracy: 0.93\n",
      "\n",
      "=== EPOCH 10 ===\n",
      "    Train Loss: 0.28465427339077, Validation Loss: 0.0, Validation Accuracy: 0.93\n",
      "\n",
      "=== EPOCH 15 ===\n",
      "    Train Loss: 0.299717606306076, Validation Loss: 0.0, Validation Accuracy: 0.93\n",
      "\n",
      "=== EPOCH 20 ===\n",
      "    Train Loss: 0.26658187314867976, Validation Loss: 0.0, Validation Accuracy: 0.91\n",
      "\n",
      "=== EPOCH 25 ===\n",
      "    Train Loss: 0.23625666603446008, Validation Loss: 0.0, Validation Accuracy: 0.94\n",
      "\n",
      "=== EPOCH 30 ===\n",
      "    Train Loss: 0.28332705587148665, Validation Loss: 0.0, Validation Accuracy: 0.95\n",
      "\n",
      "Early Stoping triggered after 30 epochs\n"
     ]
    }
   ],
   "source": [
    "device = torch.device('cuda' if torch.cuda.is_available() else 'cpu')\n",
    "model.to(device)\n",
    "\n",
    "criterion = nn.CrossEntropyLoss()\n",
    "optimizer = optim.Adam(model.parameters(), lr=LEARNING_RATE, weight_decay=WEIGHT_DECAY)\n",
    "\n",
    "trainLossHistory = []\n",
    "\n",
    "trainingLoop(\n",
    "    optimizer,\n",
    "    model,\n",
    "    criterion,\n",
    "    trainLoader,\n",
    "    valLoader,\n",
    "    trainLossHistory\n",
    ")"
   ]
  },
  {
   "cell_type": "code",
   "execution_count": 23,
   "metadata": {
    "tags": []
   },
   "outputs": [
    {
     "data": {
      "image/png": "[encoded data removed]",
      "text/plain": [
       "<Figure size 1000x400 with 1 Axes>"
      ]
     },
     "metadata": {},
     "output_type": "display_data"
    }
   ],
   "source": [
    "plt.figure(figsize=(10,4))\n",
    "plt.plot(range(1, len(trainLossHistory) + 1), trainLossHistory, color='green', label='Training Loss')\n",
    "plt.xlabel('Epoch')\n",
    "plt.ylabel('Loss')\n",
    "plt.suptitle('Training Loss')\n",
    "plt.legend()\n",
    "\n",
    "plt.tight_layout()\n",
    "plt.show()"
   ]
  },
  {
   "cell_type": "code",
   "execution_count": 24,
   "metadata": {
    "tags": []
   },
   "outputs": [
    {
     "name": "stdout",
     "output_type": "stream",
     "text": [
      "Train Accuracy: 0.9376986649713922\n",
      "Val Accuracy: 0.9540816326530612\n"
     ]
    }
   ],
   "source": [
    "validate(model, trainLoader, valLoader)"
   ]
  },
  {
   "cell_type": "code",
   "execution_count": 25,
   "metadata": {
    "tags": []
   },
   "outputs": [
    {
     "name": "stdout",
     "output_type": "stream",
     "text": [
      "Accuracy of the network on the test images: 91 %\n"
     ]
    }
   ],
   "source": [
    "model.eval()\n",
    "correct = 0\n",
    "total = 0\n",
    "predicted_labels = []\n",
    "true_labels = []\n",
    "\n",
    "with torch.no_grad():\n",
    "    for data in testLoader:\n",
    "        images, labels = data\n",
    "        images, labels = images.to(device), labels.to(device)\n",
    "        outputs = model(images)\n",
    "        _, predicted = torch.max(outputs.data, 1)\n",
    "        \n",
    "        total += labels.size(0)\n",
    "        correct += (predicted == labels).sum().item()\n",
    "        \n",
    "        predicted_labels.extend(predicted.cpu().numpy())\n",
    "        true_labels.extend(labels.cpu().numpy())\n",
    "        \n",
    "acc = 100 * correct / total\n",
    "\n",
    "print('Accuracy of the network on the test images: %d %%' % acc)"
   ]
  },
  {
   "cell_type": "code",
   "execution_count": 27,
   "metadata": {
    "tags": []
   },
   "outputs": [
    {
     "data": {
      "image/png": "[encoded data removed]",
      "text/plain": [
       "<Figure size 1000x800 with 2 Axes>"
      ]
     },
     "metadata": {},
     "output_type": "display_data"
    }
   ],
   "source": [
    "conf_matrix = confusion_matrix(true_labels, predicted_labels)\n",
    "\n",
    "class_names = [str(i) for i in range(2)]\n",
    "\n",
    "plt.figure(figsize=(10, 8))\n",
    "sns.heatmap(conf_matrix, annot=True, fmt='d', cmap=sns.cubehelix_palette(as_cmap=True), xticklabels=class_names, yticklabels=class_names)\n",
    "plt.xlabel('Predicted Labels')\n",
    "plt.ylabel('True Labels')\n",
    "plt.title('VGG16')\n",
    "\n",
    "plt.show()"
   ]
  },
  {
   "cell_type": "code",
   "execution_count": 28,
   "metadata": {
    "tags": []
   },
   "outputs": [
    {
     "name": "stdout",
     "output_type": "stream",
     "text": [
      "              precision    recall  f1-score   support\n",
      "\n",
      "           0       0.90      0.93      0.92        99\n",
      "           1       0.93      0.90      0.91        99\n",
      "\n",
      "    accuracy                           0.91       198\n",
      "   macro avg       0.91      0.91      0.91       198\n",
      "weighted avg       0.91      0.91      0.91       198\n",
      "\n"
     ]
    }
   ],
   "source": [
    "report = classification_report(true_labels, predicted_labels)\n",
    "print(report)"
   ]
  },
  {
   "cell_type": "code",
   "execution_count": 29,
   "metadata": {
    "tags": []
   },
   "outputs": [
    {
     "name": "stdout",
     "output_type": "stream",
     "text": [
      "F1-Score: 91.28205108642578, Precision: 92.70832824707031, Recall: 89.89899444580078\n"
     ]
    }
   ],
   "source": [
    "f1 = metrics.classification.BinaryF1Score()\n",
    "f1_score = f1(torch.tensor(predicted_labels), torch.tensor(true_labels))\n",
    "prec = metrics.classification.BinaryPrecision()\n",
    "precision = prec(torch.tensor(predicted_labels), torch.tensor(true_labels))\n",
    "rec = metrics.classification.BinaryRecall()\n",
    "recall = rec(torch.tensor(predicted_labels), torch.tensor(true_labels))\n",
    "\n",
    "print(f'F1-Score: {f1_score * 100}, Precision: {precision * 100}, Recall: {recall * 100}')"
   ]
  },
  {
   "cell_type": "code",
   "execution_count": 30,
   "metadata": {
    "tags": []
   },
   "outputs": [],
   "source": [
    "torch.save({\n",
    "    'model_state_dict': model.state_dict(),\n",
    "    'optimizeer_state_dict': optimizer.state_dict(),\n",
    "},     'VGG16_model.pth')"
   ]
  },
  {
   "cell_type": "markdown",
   "metadata": {},
   "source": [
    "# ResNet18 + Data Augmentation"
   ]
  },
  {
   "cell_type": "code",
   "execution_count": 33,
   "metadata": {
    "tags": []
   },
   "outputs": [],
   "source": [
    "from torchvision.models import resnet50"
   ]
  },
  {
   "cell_type": "code",
   "execution_count": 38,
   "metadata": {
    "tags": []
   },
   "outputs": [],
   "source": [
    "model = resnet50(pretrained=True)\n",
    "\n",
    "for param in model.parameters():\n",
    "    param.requires_grad = False\n",
    "    \n",
    "num_ftrs = model.fc.in_features\n",
    "\n",
    "model.fc = nn.Linear(num_ftrs, 2)"
   ]
  },
  {
   "cell_type": "code",
   "execution_count": 40,
   "metadata": {
    "tags": []
   },
   "outputs": [
    {
     "name": "stdout",
     "output_type": "stream",
     "text": [
      "=== EPOCH 5 ===\n",
      "    Train Loss: 0.22496493488550187, Validation Loss: 0.0, Validation Accuracy: 0.93\n",
      "\n",
      "=== EPOCH 10 ===\n",
      "    Train Loss: 0.23750895589590074, Validation Loss: 0.0, Validation Accuracy: 0.92\n",
      "\n",
      "=== EPOCH 15 ===\n",
      "    Train Loss: 0.19265056148171425, Validation Loss: 0.0, Validation Accuracy: 0.92\n",
      "\n",
      "=== EPOCH 20 ===\n",
      "    Train Loss: 0.26939156383275986, Validation Loss: 0.0, Validation Accuracy: 0.89\n",
      "\n",
      "=== EPOCH 25 ===\n",
      "    Train Loss: 0.19233472660183906, Validation Loss: 0.0, Validation Accuracy: 0.88\n",
      "\n",
      "=== EPOCH 30 ===\n",
      "    Train Loss: 0.178234483897686, Validation Loss: 0.0, Validation Accuracy: 0.89\n",
      "\n",
      "Early Stoping triggered after 30 epochs\n"
     ]
    }
   ],
   "source": [
    "device = torch.device('cuda' if torch.cuda.is_available() else 'cpu')\n",
    "model.to(device)\n",
    "\n",
    "criterion = nn.CrossEntropyLoss()\n",
    "optimizer = optim.Adam(model.parameters(), lr = LEARNING_RATE, weight_decay=WEIGHT_DECAY)\n",
    "\n",
    "trainLossHistory = []\n",
    "\n",
    "trainingLoop(\n",
    "    optimizer,\n",
    "    model,\n",
    "    criterion,\n",
    "    trainLoader,\n",
    "    valLoader,\n",
    "    trainLossHistory\n",
    ")"
   ]
  },
  {
   "cell_type": "code",
   "execution_count": 41,
   "metadata": {
    "tags": []
   },
   "outputs": [
    {
     "data": {
      "image/png": "[encoded data removed]",
      "text/plain": [
       "<Figure size 1000x400 with 1 Axes>"
      ]
     },
     "metadata": {},
     "output_type": "display_data"
    }
   ],
   "source": [
    "plt.figure(figsize=(10,4))\n",
    "plt.plot(range(1, len(trainLossHistory) + 1), trainLossHistory, color='green', label='Training Loss')\n",
    "plt.xlabel('Epoch')\n",
    "plt.ylabel('Loss')\n",
    "plt.suptitle('Training Loss')\n",
    "plt.legend()\n",
    "\n",
    "plt.tight_layout()\n",
    "plt.show()"
   ]
  },
  {
   "cell_type": "code",
   "execution_count": 42,
   "metadata": {
    "tags": []
   },
   "outputs": [
    {
     "name": "stdout",
     "output_type": "stream",
     "text": [
      "Train Accuracy: 0.9154481881754609\n",
      "Val Accuracy: 0.8877551020408163\n"
     ]
    }
   ],
   "source": [
    "validate(model, trainLoader, valLoader)"
   ]
  },
  {
   "cell_type": "code",
   "execution_count": 44,
   "metadata": {
    "tags": []
   },
   "outputs": [
    {
     "name": "stdout",
     "output_type": "stream",
     "text": [
      "Accuracy of the network on the test images: 89 %\n"
     ]
    }
   ],
   "source": [
    "model.eval()\n",
    "\n",
    "correct = 0\n",
    "total = 0\n",
    "predicted_labels = []\n",
    "true_labels = []\n",
    "\n",
    "with torch.no_grad():\n",
    "    for data in testLoader:\n",
    "        images, labels = data\n",
    "        images, labels = images.to(device), labels.to(device)\n",
    "        outputs = model(images)\n",
    "        \n",
    "        _, predicted = torch.max(outputs.data, 1)\n",
    "        total += labels.size(0)\n",
    "        correct += (predicted == labels).sum().item()\n",
    "        \n",
    "        predicted_labels.extend(predicted.cpu().numpy())\n",
    "        true_labels.extend(labels.cpu().numpy())\n",
    "        \n",
    "acc = 100 * correct / total\n",
    "\n",
    "print('Accuracy of the network on the test images: %d %%' % acc)"
   ]
  },
  {
   "cell_type": "code",
   "execution_count": 45,
   "metadata": {
    "tags": []
   },
   "outputs": [
    {
     "data": {
      "image/png": "[encoded data removed]",
      "text/plain": [
       "<Figure size 1000x800 with 2 Axes>"
      ]
     },
     "metadata": {},
     "output_type": "display_data"
    }
   ],
   "source": [
    "conf_matrix = confusion_matrix(true_labels, predicted_labels)\n",
    "class_names = [str(i) for i in range(2)]\n",
    "\n",
    "plt.figure(figsize=(10, 8))\n",
    "sns.heatmap(conf_matrix, annot=True, fmt='d', cmap=sns.cubehelix_palette(as_cmap=True), xticklabels=class_names, yticklabels=class_names)\n",
    "plt.xlabel('Predicted Labels')\n",
    "plt.ylabel('True Labels')\n",
    "plt.title('ResNet50')\n",
    "plt.savefig('resnet18confmatrix.png')\n",
    "\n",
    "plt.show()"
   ]
  },
  {
   "cell_type": "code",
   "execution_count": 46,
   "metadata": {
    "tags": []
   },
   "outputs": [
    {
     "name": "stdout",
     "output_type": "stream",
     "text": [
      "              precision    recall  f1-score   support\n",
      "\n",
      "           0       0.84      0.97      0.90        99\n",
      "           1       0.96      0.82      0.89        99\n",
      "\n",
      "    accuracy                           0.89       198\n",
      "   macro avg       0.90      0.89      0.89       198\n",
      "weighted avg       0.90      0.89      0.89       198\n",
      "\n"
     ]
    }
   ],
   "source": [
    "report = classification_report(true_labels, predicted_labels)\n",
    "\n",
    "print(report)"
   ]
  },
  {
   "cell_type": "code",
   "execution_count": 47,
   "metadata": {
    "tags": []
   },
   "outputs": [
    {
     "name": "stdout",
     "output_type": "stream",
     "text": [
      "F1 Score: 89.39393615722656, Precision: 90.31954956054688, Recall: 89.39393615722656\n"
     ]
    }
   ],
   "source": [
    "f1 = metrics.F1Score(task='multiclass', num_classes=4)\n",
    "f1 = f1(torch.tensor(predicted_labels), torch.tensor(true_labels)) * 100\n",
    "\n",
    "prec = metrics.Precision(task='multiclass', average='macro', num_classes=4)\n",
    "prec = prec(torch.tensor(predicted_labels), torch.tensor(true_labels)) * 100\n",
    "\n",
    "recall = metrics.Recall(task='multiclass', average='macro', num_classes=4)\n",
    "recall = recall(torch.tensor(predicted_labels), torch.tensor(true_labels)) * 100\n",
    "\n",
    "print(f'F1 Score: {f1}, Precision: {prec}, Recall: {recall}')"
   ]
  },
  {
   "cell_type": "code",
   "execution_count": 48,
   "metadata": {
    "tags": []
   },
   "outputs": [],
   "source": [
    "torch.save({\n",
    "    'model_state_dict': model.state_dict(),\n",
    "    'optimizeer_state_dict': optimizer.state_dict(),\n",
    "},     'ResNet50_model.pth')"
   ]
  },
  {
   "cell_type": "code",
   "execution_count": null,
   "metadata": {},
   "outputs": [],
   "source": []
  }
 ],
 "metadata": {
  "kernelspec": {
   "display_name": "sagemaker-distribution:Python",
   "language": "python",
   "name": "conda-env-sagemaker-distribution-py"
  },
  "language_info": {
   "codemirror_mode": {
    "name": "ipython",
    "version": 3
   },
   "file_extension": ".py",
   "mimetype": "text/x-python",
   "name": "python",
   "nbconvert_exporter": "python",
   "pygments_lexer": "ipython3",
   "version": "3.10.14"
  },
  "widgets": {
   "application/vnd.jupyter.widget-state+json": {
    "state": {},
    "version_major": 2,
    "version_minor": 0
   }
  }
 },
 "nbformat": 4,
 "nbformat_minor": 4
}
