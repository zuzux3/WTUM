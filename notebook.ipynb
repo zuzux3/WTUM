{
 "cells": [
  {
   "cell_type": "markdown",
   "metadata": {},
   "source": [
    "# Exploratory Data Analysis"
   ]
  },
  {
   "cell_type": "code",
   "execution_count": 20,
   "metadata": {},
   "outputs": [],
   "source": [
    "\n",
    "import os\n",
    "import seaborn as sns\n",
    "import matplotlib.pyplot as plt\n",
    "import numpy as np"
   ]
  },
  {
   "cell_type": "code",
   "execution_count": 2,
   "metadata": {},
   "outputs": [],
   "source": [
    "def fileCounter(directory: str):\n",
    "    lst = os.listdir(directory)\n",
    "    fileCount = len(lst)\n",
    "    \n",
    "    return fileCount"
   ]
  },
  {
   "cell_type": "code",
   "execution_count": 3,
   "metadata": {},
   "outputs": [],
   "source": [
    "trainingPizzaPath = 'pizza-notpizza/train/pizza'\n",
    "trainingNotPizzaPath = 'pizza-notpizza/train/not_pizza'\n",
    "\n",
    "validationPizzaPath = 'pizza-notpizza/val/pizza'\n",
    "validationNotPizzaPath = 'pizza-notpizza/val/not_pizza'\n",
    "\n",
    "testingPizzaPath = 'pizza-notpizza/test/pizza'\n",
    "testingNotPizzaPath = 'pizza-notpizza/test/not_pizza'"
   ]
  },
  {
   "cell_type": "code",
   "execution_count": 4,
   "metadata": {},
   "outputs": [
    {
     "data": {
      "text/plain": [
       "[786, 786]"
      ]
     },
     "execution_count": 4,
     "metadata": {},
     "output_type": "execute_result"
    }
   ],
   "source": [
    "trainPizzaCount = fileCounter(trainingPizzaPath)\n",
    "trainNotPizzaCount = fileCounter(trainingNotPizzaPath)\n",
    "\n",
    "training = [trainPizzaCount, trainNotPizzaCount]\n",
    "training"
   ]
  },
  {
   "cell_type": "code",
   "execution_count": 5,
   "metadata": {},
   "outputs": [
    {
     "data": {
      "text/plain": [
       "[98, 98]"
      ]
     },
     "execution_count": 5,
     "metadata": {},
     "output_type": "execute_result"
    }
   ],
   "source": [
    "valPizzaCount = fileCounter(validationPizzaPath)\n",
    "valNotPizzaCount = fileCounter(validationNotPizzaPath)\n",
    "\n",
    "validation = [valPizzaCount, valNotPizzaCount]\n",
    "validation"
   ]
  },
  {
   "cell_type": "code",
   "execution_count": 6,
   "metadata": {},
   "outputs": [
    {
     "data": {
      "text/plain": [
       "[99, 99]"
      ]
     },
     "execution_count": 6,
     "metadata": {},
     "output_type": "execute_result"
    }
   ],
   "source": [
    "testPizzaCount = fileCounter(testingPizzaPath)\n",
    "testNotPizzaCount = fileCounter(testingNotPizzaPath)\n",
    "\n",
    "testing = [testPizzaCount, testNotPizzaCount]\n",
    "testing"
   ]
  },
  {
   "cell_type": "code",
   "execution_count": 7,
   "metadata": {},
   "outputs": [
    {
     "data": {
      "image/png": "[encoded data removed]",
      "text/plain": [
       "<Figure size 640x480 with 1 Axes>"
      ]
     },
     "metadata": {},
     "output_type": "display_data"
    }
   ],
   "source": [
    "classes = ['Pizza', 'Not Pizza']\n",
    "classesCount = {\n",
    "    'Training Data': training,\n",
    "    'Validation Data': validation,\n",
    "    'Testing Data': testing\n",
    "}\n",
    "\n",
    "x = np.arange(len(classes))\n",
    "width = 0.33\n",
    "multiplier = 0\n",
    "\n",
    "fig, ax = plt.subplots(layout='constrained')\n",
    "\n",
    "for dataset, eachClassCount in classesCount.items():\n",
    "    offset = width * multiplier\n",
    "    rects = ax.bar(x + offset, eachClassCount, width, label = dataset)\n",
    "    ax.bar_label(rects, padding=3)\n",
    "    multiplier += 1\n",
    "    \n",
    "ax.set_ylabel('Quantity')\n",
    "ax.set_ylabel('Class')\n",
    "ax.set_title('Pizza or Not Pizza by Dataset')\n",
    "ax.set_xticks(x + width, classes)\n",
    "ax.legend(loc = 'center', ncols = 3)\n",
    "ax.set_ylim(0, 900)\n",
    "\n",
    "plt.show()"
   ]
  },
  {
   "cell_type": "markdown",
   "metadata": {},
   "source": [
    "# First attepmt to train\n",
    "- Lasso Regularization\n",
    "- CNN Network\n",
    "- 3 x 256 x 256 input size"
   ]
  },
  {
   "cell_type": "code",
   "execution_count": 8,
   "metadata": {},
   "outputs": [],
   "source": [
    "import torch\n",
    "import torch.nn as nn\n",
    "import torch.optim as optim\n",
    "\n",
    "import torchvision.transforms as transforms\n",
    "import torchvision.datasets as datasets\n",
    "import torchvision.transforms.functional as F\n",
    "from torchvision.transforms import v2\n",
    "\n",
    "import torchmetrics as metrics\n",
    "\n",
    "from sklearn.metrics import confusion_matrix, classification_report"
   ]
  },
  {
   "cell_type": "code",
   "execution_count": 9,
   "metadata": {},
   "outputs": [],
   "source": [
    "trainData = 'pizza-notpizza/train'\n",
    "valData = 'pizza-notpizza/val'\n",
    "testData = 'pizza-notpizza/test'"
   ]
  },
  {
   "cell_type": "code",
   "execution_count": 10,
   "metadata": {},
   "outputs": [],
   "source": [
    "trainTransforms = transforms.Compose([\n",
    "    transforms.Resize((256, 256)),\n",
    "    transforms.ToTensor(),\n",
    "    transforms.Normalize(mean=[0.5, 0.5, 0.5], std=[0.5, 0.5, 0.5])\n",
    "])\n",
    "\n",
    "valTestTransforms = transforms.Compose([\n",
    "    transforms.Resize((256, 256)),\n",
    "    transforms.ToTensor()\n",
    "])\n",
    "\n",
    "trainDataset = datasets.ImageFolder(trainData, transform=trainTransforms)\n",
    "valDataset = datasets.ImageFolder(valData, transform=valTestTransforms)\n",
    "testDataset = datasets.ImageFolder(testData, transform=valTestTransforms)"
   ]
  },
  {
   "cell_type": "code",
   "execution_count": 11,
   "metadata": {},
   "outputs": [
    {
     "name": "stdout",
     "output_type": "stream",
     "text": [
      "Class Name: not_pizza, Numeric Value: 0\n",
      "Class Name: pizza, Numeric Value: 1\n"
     ]
    }
   ],
   "source": [
    "class_to_idx = trainDataset.class_to_idx\n",
    "\n",
    "for label, value in class_to_idx.items():\n",
    "    print(f'Class Name: {label}, Numeric Value: {value}')"
   ]
  },
  {
   "cell_type": "code",
   "execution_count": 12,
   "metadata": {},
   "outputs": [
    {
     "data": {
      "text/plain": [
       "(tensor([[[-0.9922, -0.9843, -0.9843,  ..., -0.9843, -0.9843, -0.9843],\n",
       "          [-0.9843, -0.9843, -0.9843,  ..., -0.9922, -0.9922, -0.9922],\n",
       "          [-0.9373, -0.9373, -0.9294,  ..., -0.9843, -0.9843, -0.9922],\n",
       "          ...,\n",
       "          [-0.7176, -0.7020, -0.7098,  ..., -0.9843, -0.9843, -0.9843],\n",
       "          [-0.9608, -0.9686, -0.9608,  ..., -0.9922, -0.9922, -0.9922],\n",
       "          [-0.9922, -0.9922, -0.9843,  ..., -0.9922, -0.9922, -0.9922]],\n",
       " \n",
       "         [[-0.9922, -0.9843, -0.9843,  ..., -1.0000, -1.0000, -1.0000],\n",
       "          [-0.9843, -0.9843, -0.9843,  ..., -0.9922, -0.9922, -0.9922],\n",
       "          [-0.9765, -0.9686, -0.9686,  ..., -1.0000, -1.0000, -1.0000],\n",
       "          ...,\n",
       "          [-0.8275, -0.8196, -0.8196,  ..., -0.9922, -0.9922, -0.9922],\n",
       "          [-0.9922, -1.0000, -0.9922,  ..., -0.9922, -0.9922, -0.9922],\n",
       "          [-0.9843, -0.9922, -0.9765,  ..., -0.9922, -0.9922, -0.9922]],\n",
       " \n",
       "         [[-0.9765, -0.9765, -0.9765,  ..., -0.9922, -0.9922, -0.9922],\n",
       "          [-0.9922, -0.9922, -0.9922,  ..., -0.9765, -0.9765, -0.9765],\n",
       "          [-0.9843, -0.9843, -0.9843,  ..., -0.9608, -0.9608, -0.9608],\n",
       "          ...,\n",
       "          [-0.8745, -0.8667, -0.8824,  ..., -0.9608, -0.9608, -0.9608],\n",
       "          [-0.9608, -0.9765, -0.9843,  ..., -0.9686, -0.9686, -0.9686],\n",
       "          [-0.9843, -0.9922, -0.9922,  ..., -0.9922, -0.9922, -0.9922]]]),\n",
       " 0)"
      ]
     },
     "execution_count": 12,
     "metadata": {},
     "output_type": "execute_result"
    }
   ],
   "source": [
    "trainDataset[3]"
   ]
  },
  {
   "cell_type": "code",
   "execution_count": 13,
   "metadata": {},
   "outputs": [],
   "source": [
    "BATCH_SIZE = 16\n",
    "NUM_WORKERS = 4\n",
    "LEARNING_RATE = 0.0025\n",
    "WEIGHT_DECAY = 1e-5"
   ]
  },
  {
   "cell_type": "code",
   "execution_count": 14,
   "metadata": {},
   "outputs": [],
   "source": [
    "trainLoader = torch.utils.data.DataLoader(trainDataset, batch_size=BATCH_SIZE, shuffle=True, num_workers=NUM_WORKERS)\n",
    "valLoader = torch.utils.data.DataLoader(valDataset, batch_size=BATCH_SIZE, shuffle=True, num_workers=NUM_WORKERS)\n",
    "testLoader = torch.utils.data.DataLoader(testDataset, batch_size=BATCH_SIZE, shuffle=True, num_workers=NUM_WORKERS)"
   ]
  },
  {
   "cell_type": "code",
   "execution_count": 15,
   "metadata": {},
   "outputs": [],
   "source": [
    "class CNN(nn.Module):\n",
    "    def __init__(self):\n",
    "        super(CNN, self).__init__()\n",
    "        self.conv1 = nn.Conv2d(3, 32, kernel_size=3, stride=1, padding=1)\n",
    "        self.conv2 = nn.Conv2d(32, 64, kernel_size=3, stride=1, padding=1)\n",
    "        self.conv3 = nn.Conv2d(64, 128, kernel_size=3, stride=1, padding=1)\n",
    "        \n",
    "        self.fc1 = nn.Linear(128 * 32 * 32, 256)\n",
    "        self.fc2 = nn.Linear(256, 128)\n",
    "        self.fc3 = nn.Linear(128, 2)\n",
    "        \n",
    "        self.dropout = nn.Dropout(0.6)\n",
    "        self.pool = nn.MaxPool2d(kernel_size=2, stride=2)\n",
    "        \n",
    "    def forward(self, x):\n",
    "        x = self.pool(nn.functional.leaky_relu(self.conv1(x)))\n",
    "        x = self.pool(nn.functional.leaky_relu(self.conv2(x)))\n",
    "        x = self.pool(nn.functional.leaky_relu(self.conv3(x)))\n",
    "        \n",
    "        x = x.view(x.size(0), -1)\n",
    "        \n",
    "        x = nn.functional.leaky_relu(self.fc1(x))\n",
    "        x = self.dropout(x)\n",
    "        x = nn.functional.leaky_relu(self.fc2(x))\n",
    "        x = self.dropout(x)\n",
    "        x = self.fc3(x)\n",
    "        \n",
    "        return x"
   ]
  },
  {
   "cell_type": "code",
   "execution_count": 16,
   "metadata": {},
   "outputs": [
    {
     "name": "stdout",
     "output_type": "stream",
     "text": [
      "=== EPOCH [1]===\n",
      "    Loss: 0.7861540185080634 Accuracy: 52.86259541984733\n",
      "=== EPOCH [2]===\n",
      "    Loss: 0.6820587557975692 Accuracy: 59.79643765903308\n",
      "=== EPOCH [3]===\n",
      "    Loss: 0.6685600927983871 Accuracy: 62.340966921119595\n",
      "=== EPOCH [4]===\n",
      "    Loss: 0.6591628804953411 Accuracy: 63.295165394402034\n",
      "=== EPOCH [5]===\n",
      "    Loss: 0.6442307333151499 Accuracy: 66.2849872773537\n",
      "=== EPOCH [6]===\n",
      "    Loss: 0.6342445319951183 Accuracy: 67.74809160305344\n",
      "=== EPOCH [7]===\n",
      "    Loss: 0.645527414300225 Accuracy: 66.15776081424936\n",
      "=== EPOCH [8]===\n",
      "    Loss: 0.6658928183594135 Accuracy: 67.74809160305344\n",
      "=== EPOCH [9]===\n",
      "    Loss: 0.6692527764373355 Accuracy: 63.74045801526717\n",
      "=== EPOCH [10]===\n",
      "    Loss: 0.6518456526476928 Accuracy: 65.96692111959288\n",
      "=== EPOCH [11]===\n",
      "    Loss: 0.6311845403126995 Accuracy: 67.49363867684478\n",
      "=== EPOCH [12]===\n",
      "    Loss: 0.6287412309285366 Accuracy: 67.30279898218829\n",
      "=== EPOCH [13]===\n",
      "    Loss: 0.6375436268069528 Accuracy: 68.38422391857506\n",
      "=== EPOCH [14]===\n",
      "    Loss: 0.571306250011078 Accuracy: 71.05597964376591\n",
      "=== EPOCH [15]===\n",
      "    Loss: 0.6370913749090349 Accuracy: 67.93893129770993\n",
      "=== EPOCH [16]===\n",
      "    Loss: 0.5996003364673769 Accuracy: 71.05597964376591\n",
      "=== EPOCH [17]===\n",
      "    Loss: 0.710526113708814 Accuracy: 66.47582697201018\n",
      "=== EPOCH [18]===\n",
      "    Loss: 0.7588741017712487 Accuracy: 63.93129770992366\n",
      "=== EPOCH [19]===\n",
      "    Loss: 0.7099633794842344 Accuracy: 62.213740458015266\n",
      "=== EPOCH [20]===\n",
      "    Loss: 0.921081376196158 Accuracy: 55.152671755725194\n",
      "=== EPOCH [21]===\n",
      "    Loss: 0.7121165903529736 Accuracy: 57.56997455470738\n",
      "=== EPOCH [22]===\n",
      "    Loss: 0.6712819087986994 Accuracy: 60.75063613231552\n",
      "=== EPOCH [23]===\n",
      "    Loss: 0.606467255438217 Accuracy: 68.12977099236642\n",
      "=== EPOCH [24]===\n",
      "    Loss: 0.6491845353986277 Accuracy: 69.529262086514\n",
      "=== EPOCH [25]===\n",
      "    Loss: 0.6625417588335095 Accuracy: 61.57760814249364\n",
      "=== EPOCH [26]===\n",
      "    Loss: 0.6569956417637642 Accuracy: 66.34860050890585\n",
      "=== EPOCH [27]===\n",
      "    Loss: 119.9730190809327 Accuracy: 52.099236641221374\n",
      "=== EPOCH [28]===\n",
      "    Loss: 13.695064206316014 Accuracy: 52.735368956743\n",
      "=== EPOCH [29]===\n",
      "    Loss: 3.9327869285838775 Accuracy: 51.208651399491096\n",
      "=== EPOCH [30]===\n",
      "    Loss: 2.2575682242109316 Accuracy: 52.03562340966921\n",
      "=== EPOCH [31]===\n",
      "    Loss: 1.0399087089480776 Accuracy: 54.07124681933842\n",
      "=== EPOCH [32]===\n",
      "    Loss: 0.8985092137197052 Accuracy: 53.62595419847328\n",
      "=== EPOCH [33]===\n",
      "    Loss: 0.8950828307806843 Accuracy: 50.954198473282446\n",
      "=== EPOCH [34]===\n",
      "    Loss: 0.777188317342238 Accuracy: 53.37150127226463\n",
      "=== EPOCH [35]===\n",
      "    Loss: 0.7241682033948224 Accuracy: 55.78880407124682\n",
      "=== EPOCH [36]===\n",
      "    Loss: 0.7276158736209677 Accuracy: 53.81679389312977\n",
      "=== EPOCH [37]===\n",
      "    Loss: 0.7366082851934914 Accuracy: 54.00763358778626\n",
      "=== EPOCH [38]===\n",
      "    Loss: 0.7465032591964259 Accuracy: 54.19847328244275\n",
      "=== EPOCH [39]===\n",
      "    Loss: 0.7291053467326694 Accuracy: 54.961832061068705\n",
      "=== EPOCH [40]===\n",
      "    Loss: 0.710913193346274 Accuracy: 55.59796437659033\n",
      "=== EPOCH [41]===\n",
      "    Loss: 0.7087468360409592 Accuracy: 54.32569974554708\n",
      "=== EPOCH [42]===\n",
      "    Loss: 0.6911163950207257 Accuracy: 58.46055979643766\n",
      "=== EPOCH [43]===\n",
      "    Loss: 0.6849591135978699 Accuracy: 58.333333333333336\n",
      "=== EPOCH [44]===\n",
      "    Loss: 0.6953722629884277 Accuracy: 57.44274809160305\n",
      "=== EPOCH [45]===\n",
      "    Loss: 0.6768127541349391 Accuracy: 57.50636132315522\n",
      "=== EPOCH [46]===\n",
      "    Loss: 0.7421217377137657 Accuracy: 56.170483460559794\n",
      "=== EPOCH [47]===\n",
      "    Loss: 0.6794625592954231 Accuracy: 58.01526717557252\n",
      "=== EPOCH [48]===\n",
      "    Loss: 0.668529949103943 Accuracy: 59.732824427480914\n",
      "=== EPOCH [49]===\n",
      "    Loss: 0.6614587556834173 Accuracy: 59.4147582697201\n",
      "=== EPOCH [50]===\n",
      "    Loss: 0.6601812682970606 Accuracy: 59.98727735368957\n",
      "FINISHED TRAINING!\n"
     ]
    }
   ],
   "source": [
    "model = CNN()\n",
    "\n",
    "device = torch.device('cuda' if torch.cuda.is_available() else 'cpu')\n",
    "model.to(device)\n",
    "\n",
    "criterion = nn.CrossEntropyLoss()\n",
    "optimizer = optim.Adam(model.parameters(), lr=LEARNING_RATE, weight_decay=WEIGHT_DECAY)\n",
    "\n",
    "trainLossHistory = []\n",
    "trainAccHistory = []\n",
    "\n",
    "for epoch in range(50):\n",
    "    model.train()\n",
    "    correct = 0\n",
    "    total = 0\n",
    "    running_loss = 0.0\n",
    "    \n",
    "    for i, data in enumerate(trainLoader, 0):\n",
    "        inputs, labels = data\n",
    "        inputs, labels = inputs.to(device), labels.to(device)\n",
    "        \n",
    "        optimizer.zero_grad()\n",
    "        \n",
    "        outputs = model(inputs)\n",
    "        loss = criterion(outputs, labels)\n",
    "        loss.backward()\n",
    "        optimizer.step()\n",
    "        \n",
    "        running_loss += loss.item()\n",
    "        _, predicted = outputs.max(1)\n",
    "        total += labels.size(0)\n",
    "        correct += predicted.eq(labels).sum().item()\n",
    "        \n",
    "        if i % 1000 == 999:\n",
    "            print(f'[{epoch + 1}, {i + 1} Loss: {running_loss / 1000}]')\n",
    "            running_loss = 0.0\n",
    "            \n",
    "    epoch_loss = running_loss / len(trainLoader)\n",
    "    epoch_acc = 100 * correct / total\n",
    "    trainLossHistory.append(epoch_loss)\n",
    "    trainAccHistory.append(epoch_acc)\n",
    "    \n",
    "    print(f'=== EPOCH [{epoch + 1}]===\\n    Loss: {epoch_loss} Accuracy: {epoch_acc}')\n",
    "    \n",
    "print('FINISHED TRAINING!')"
   ]
  },
  {
   "cell_type": "code",
   "execution_count": 17,
   "metadata": {},
   "outputs": [
    {
     "data": {
      "image/png": "[encoded data removed]",
      "text/plain": [
       "<Figure size 1000x400 with 2 Axes>"
      ]
     },
     "metadata": {},
     "output_type": "display_data"
    }
   ],
   "source": [
    "plt.figure(figsize=(10,4))\n",
    "plt.subplot(1,2,1)\n",
    "plt.plot(range(1, len(trainLossHistory) + 1), trainLossHistory, color='green', label='Training Loss')\n",
    "plt.xlabel('Epoch')\n",
    "plt.ylabel('Loss')\n",
    "plt.suptitle('Training Loss')\n",
    "plt.legend()\n",
    "\n",
    "plt.subplot(1, 2, 2)\n",
    "plt.plot(range(1, len(trainAccHistory) + 1), trainAccHistory, color='pink', label='Training Accuracy')\n",
    "plt.xlabel('Epoch')\n",
    "plt.ylabel('Accuracy [%]')\n",
    "plt.suptitle('Training Accuracy')\n",
    "plt.legend()\n",
    "\n",
    "plt.tight_layout()\n",
    "plt.show()"
   ]
  },
  {
   "cell_type": "code",
   "execution_count": 19,
   "metadata": {},
   "outputs": [
    {
     "name": "stdout",
     "output_type": "stream",
     "text": [
      "Accuracy of the network on the test images: 46 %\n"
     ]
    }
   ],
   "source": [
    "model.eval()\n",
    "correct = 0\n",
    "total = 0\n",
    "predicted_labels = []\n",
    "true_labels = []\n",
    "\n",
    "with torch.no_grad():\n",
    "    for data in valLoader:\n",
    "        images, labels = data\n",
    "        images, labels = images.to(device), labels.to(device)\n",
    "        outputs = model(images)\n",
    "        _, predicted = torch.max(outputs.data, 1)\n",
    "        \n",
    "        total += labels.size(0)\n",
    "        correct += (predicted == labels).sum().item()\n",
    "        \n",
    "        predicted_labels.extend(predicted.cpu().numpy())\n",
    "        true_labels.extend(labels.cpu().numpy())\n",
    "        \n",
    "acc = 100 * correct / total\n",
    "\n",
    "print('Accuracy of the network on the test images: %d %%' % acc)"
   ]
  },
  {
   "cell_type": "code",
   "execution_count": 22,
   "metadata": {},
   "outputs": [
    {
     "data": {
      "image/png": "[encoded data removed]",
      "text/plain": [
       "<Figure size 1000x800 with 2 Axes>"
      ]
     },
     "metadata": {},
     "output_type": "display_data"
    }
   ],
   "source": [
    "conf_matrix = confusion_matrix(true_labels, predicted_labels)\n",
    "\n",
    "class_names = [str(i) for i in range(2)]\n",
    "\n",
    "plt.figure(figsize=(10, 8))\n",
    "sns.heatmap(conf_matrix, annot=True, fmt='d', cmap=sns.cubehelix_palette(as_cmap=True), xticklabels=class_names, yticklabels=class_names)\n",
    "plt.xlabel('Predicted Labels')\n",
    "plt.ylabel('True Labels')\n",
    "plt.title('CNN with Unbalanced Data vol. 1')\n",
    "plt.savefig('conf_matrix_cnn1.png')\n",
    "\n",
    "plt.show()"
   ]
  },
  {
   "cell_type": "code",
   "execution_count": 23,
   "metadata": {},
   "outputs": [
    {
     "name": "stdout",
     "output_type": "stream",
     "text": [
      "              precision    recall  f1-score   support\n",
      "\n",
      "           0       0.48      0.90      0.63        98\n",
      "           1       0.23      0.03      0.05        98\n",
      "\n",
      "    accuracy                           0.46       196\n",
      "   macro avg       0.36      0.46      0.34       196\n",
      "weighted avg       0.36      0.46      0.34       196\n",
      "\n"
     ]
    }
   ],
   "source": [
    "report = classification_report(true_labels, predicted_labels)\n",
    "print(report)"
   ]
  },
  {
   "cell_type": "code",
   "execution_count": 25,
   "metadata": {},
   "outputs": [
    {
     "name": "stdout",
     "output_type": "stream",
     "text": [
      "F1-Score: 5.405405521392822, Precision: 23.076923370361328, Recall: 3.0612244606018066\n"
     ]
    }
   ],
   "source": [
    "f1 = metrics.classification.BinaryF1Score()\n",
    "f1_score = f1(torch.tensor(predicted_labels), torch.tensor(true_labels))\n",
    "prec = metrics.classification.BinaryPrecision()\n",
    "precision = prec(torch.tensor(predicted_labels), torch.tensor(true_labels))\n",
    "rec = metrics.classification.BinaryRecall()\n",
    "recall = rec(torch.tensor(predicted_labels), torch.tensor(true_labels))\n",
    "\n",
    "print(f'F1-Score: {f1_score * 100}, Precision: {precision * 100}, Recall: {recall * 100}')"
   ]
  },
  {
   "cell_type": "code",
   "execution_count": 26,
   "metadata": {},
   "outputs": [],
   "source": [
    "from torchvision.models import efficientnet_b0"
   ]
  },
  {
   "cell_type": "markdown",
   "metadata": {},
   "source": [
    "## EfficientNet + Data Augmentation\n",
    "Data Augmentations:\n",
    "- Flips (Horizontal and Vertical)\n",
    "- Rotation\n",
    "- Color Gitter\n",
    "\n",
    "Additionaly:\n",
    "- Normalization"
   ]
  },
  {
   "cell_type": "code",
   "execution_count": 28,
   "metadata": {},
   "outputs": [],
   "source": [
    "trainTransforms = transforms.Compose([\n",
    "    transforms.Resize((256, 256)),\n",
    "    transforms.RandomHorizontalFlip(),\n",
    "    transforms.RandomVerticalFlip(),\n",
    "    transforms.RandomRotation(30),\n",
    "    transforms.ColorJitter(brightness=0.3, contrast=0.5, saturation=0.3),\n",
    "    transforms.ToTensor(),\n",
    "    transforms.Normalize(mean=[0.5, 0.5, 0.5], std=[0.5, 0.5, 0.5])\n",
    "])\n",
    "\n",
    "trainDataset = datasets.ImageFolder(trainData, transform=trainTransforms)"
   ]
  },
  {
   "cell_type": "code",
   "execution_count": 29,
   "metadata": {},
   "outputs": [],
   "source": [
    "trainLoader = torch.utils.data.DataLoader(trainDataset, batch_size=BATCH_SIZE, shuffle=True, num_workers=NUM_WORKERS)"
   ]
  },
  {
   "cell_type": "code",
   "execution_count": 36,
   "metadata": {},
   "outputs": [],
   "source": [
    "class EfficientNet(nn.Module):\n",
    "    def __init__(self):\n",
    "        super(EfficientNet, self).__init__()\n",
    "        self.model = efficientnet_b0(pretrained = True)\n",
    "        self.model.classifier = nn.Sequential(\n",
    "            nn.Dropout(p=0.2, inplace=True),\n",
    "            nn.Linear(self.model.classifier[1].in_features, 1)  # Adjusted for binary classification\n",
    "        )\n",
    "        self.leaky_relu = nn.LeakyReLU()\n",
    "        \n",
    "    def forward(self, x):\n",
    "        x = self.model(x)\n",
    "        x = self.leaky_relu(x)\n",
    "        \n",
    "        return x"
   ]
  },
  {
   "cell_type": "code",
   "execution_count": 40,
   "metadata": {},
   "outputs": [
    {
     "name": "stderr",
     "output_type": "stream",
     "text": [
      "/Users/zuzux/Documents/Uni/Projects/WTUM/wtum/lib/python3.11/site-packages/torchvision/models/_utils.py:208: UserWarning: The parameter 'pretrained' is deprecated since 0.13 and may be removed in the future, please use 'weights' instead.\n",
      "  warnings.warn(\n",
      "/Users/zuzux/Documents/Uni/Projects/WTUM/wtum/lib/python3.11/site-packages/torchvision/models/_utils.py:223: UserWarning: Arguments other than a weight enum or `None` for 'weights' are deprecated since 0.13 and may be removed in the future. The current behavior is equivalent to passing `weights=EfficientNet_B0_Weights.IMAGENET1K_V1`. You can also use `weights=EfficientNet_B0_Weights.DEFAULT` to get the most up-to-date weights.\n",
      "  warnings.warn(msg)\n",
      "/var/folders/5z/kr2ym7nj6t5096sqwq9byhsw0000gn/T/ipykernel_64776/3683477769.py:20: UserWarning: To copy construct from a tensor, it is recommended to use sourceTensor.clone().detach() or sourceTensor.clone().detach().requires_grad_(True), rather than torch.tensor(sourceTensor).\n",
      "  labels = torch.tensor(labels, dtype=torch.float32)\n"
     ]
    }
   ],
   "source": [
    "model = EfficientNet()\n",
    "\n",
    "device = torch.device('cuda' if torch.cuda.is_available() else 'cpu')\n",
    "model.to(device)\n",
    "\n",
    "criterion = nn.BCEWithLogitsLoss()\n",
    "optimizer = optim.Adam(model.parameters(), lr=LEARNING_RATE, weight_decay=WEIGHT_DECAY)\n",
    "\n",
    "trainLossHistory = []\n",
    "trainAccHistory = []\n",
    "\n",
    "for epoch in range(50):\n",
    "    model.train()\n",
    "    correct = 0\n",
    "    total = 0\n",
    "    running_loss = 0.0\n",
    "    \n",
    "    for i, data in enumerate(trainLoader, 0):\n",
    "        inputs, labels = data\n",
    "        labels = torch.tensor(labels, dtype=torch.float32)\n",
    "        inputs, labels = inputs.to(device), labels.to(device).unsqueeze(1)\n",
    "        \n",
    "        optimizer.zero_grad()\n",
    "        \n",
    "        outputs = model(inputs)\n",
    "        loss = criterion(outputs, labels)\n",
    "        loss.backward()\n",
    "        optimizer.step()\n",
    "        \n",
    "        running_loss += loss.item()\n",
    "        _, predicted = outputs.max(1)\n",
    "        total += labels.size(0)\n",
    "        correct += predicted.eq(labels).sum().item()\n",
    "        \n",
    "        if i % 1000 == 999:\n",
    "            print(f'[{epoch + 1}, {i + 1} Loss: {running_loss / 1000}]')\n",
    "            running_loss = 0.0\n",
    "            \n",
    "    epoch_loss = running_loss / len(trainLoader)\n",
    "    epoch_acc = 100 * correct / total\n",
    "    trainLossHistory.append(epoch_loss)\n",
    "    trainAccHistory.append(epoch_acc)\n",
    "    \n",
    "    print(f'=== EPOCH [{epoch + 1}]===\\n    Loss: {epoch_loss} Accuracy: {epoch_acc}')\n",
    "    \n",
    "print('FINISHED TRAINING!')"
   ]
  },
  {
   "cell_type": "code",
   "execution_count": null,
   "metadata": {},
   "outputs": [],
   "source": []
  }
 ],
 "metadata": {
  "kernelspec": {
   "display_name": "wtum",
   "language": "python",
   "name": "python3"
  },
  "language_info": {
   "codemirror_mode": {
    "name": "ipython",
    "version": 3
   },
   "file_extension": ".py",
   "mimetype": "text/x-python",
   "name": "python",
   "nbconvert_exporter": "python",
   "pygments_lexer": "ipython3",
   "version": "3.11.6"
  }
 },
 "nbformat": 4,
 "nbformat_minor": 2
}
