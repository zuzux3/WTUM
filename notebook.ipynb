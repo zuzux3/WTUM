{
 "cells": [
  {
   "cell_type": "markdown",
   "metadata": {},
   "source": [
    "# Exploratory Data Analysis"
   ]
  },
  {
   "cell_type": "code",
   "execution_count": 30,
   "metadata": {},
   "outputs": [],
   "source": [
    "\n",
    "import os\n",
    "import seaborn as sn\n",
    "import matplotlib.pyplot as plt\n",
    "import numpy as np"
   ]
  },
  {
   "cell_type": "code",
   "execution_count": 31,
   "metadata": {},
   "outputs": [],
   "source": [
    "def fileCounter(directory: str):\n",
    "    lst = os.listdir(directory)\n",
    "    fileCount = len(lst)\n",
    "    \n",
    "    return fileCount"
   ]
  },
  {
   "cell_type": "code",
   "execution_count": 32,
   "metadata": {},
   "outputs": [],
   "source": [
    "trainingPizzaPath = 'pizza-notpizza/train/pizza'\n",
    "trainingNotPizzaPath = 'pizza-notpizza/train/not_pizza'\n",
    "\n",
    "validationPizzaPath = 'pizza-notpizza/val/pizza'\n",
    "validationNotPizzaPath = 'pizza-notpizza/val/not_pizza'\n",
    "\n",
    "testingPizzaPath = 'pizza-notpizza/test/pizza'\n",
    "testingNotPizzaPath = 'pizza-notpizza/test/not_pizza'"
   ]
  },
  {
   "cell_type": "code",
   "execution_count": 33,
   "metadata": {},
   "outputs": [
    {
     "data": {
      "text/plain": [
       "[786, 786]"
      ]
     },
     "execution_count": 33,
     "metadata": {},
     "output_type": "execute_result"
    }
   ],
   "source": [
    "trainPizzaCount = fileCounter(trainingPizzaPath)\n",
    "trainNotPizzaCount = fileCounter(trainingNotPizzaPath)\n",
    "\n",
    "training = [trainPizzaCount, trainNotPizzaCount]\n",
    "training"
   ]
  },
  {
   "cell_type": "code",
   "execution_count": 34,
   "metadata": {},
   "outputs": [
    {
     "data": {
      "text/plain": [
       "[98, 98]"
      ]
     },
     "execution_count": 34,
     "metadata": {},
     "output_type": "execute_result"
    }
   ],
   "source": [
    "valPizzaCount = fileCounter(validationPizzaPath)\n",
    "valNotPizzaCount = fileCounter(validationNotPizzaPath)\n",
    "\n",
    "validation = [valPizzaCount, valNotPizzaCount]\n",
    "validation"
   ]
  },
  {
   "cell_type": "code",
   "execution_count": 35,
   "metadata": {},
   "outputs": [
    {
     "data": {
      "text/plain": [
       "[99, 99]"
      ]
     },
     "execution_count": 35,
     "metadata": {},
     "output_type": "execute_result"
    }
   ],
   "source": [
    "testPizzaCount = fileCounter(testingPizzaPath)\n",
    "testNotPizzaCount = fileCounter(testingNotPizzaPath)\n",
    "\n",
    "testing = [testPizzaCount, testNotPizzaCount]\n",
    "testing"
   ]
  },
  {
   "cell_type": "code",
   "execution_count": 36,
   "metadata": {},
   "outputs": [
    {
     "data": {
      "image/png": "[encoded data removed]",
      "text/plain": [
       "<Figure size 640x480 with 1 Axes>"
      ]
     },
     "metadata": {},
     "output_type": "display_data"
    }
   ],
   "source": [
    "classes = ['Pizza', 'Not Pizza']\n",
    "classesCount = {\n",
    "    'Training Data': training,\n",
    "    'Validation Data': validation,\n",
    "    'Testing Data': testing\n",
    "}\n",
    "\n",
    "x = np.arange(len(classes))\n",
    "width = 0.33\n",
    "multiplier = 0\n",
    "\n",
    "fig, ax = plt.subplots(layout='constrained')\n",
    "\n",
    "for dataset, eachClassCount in classesCount.items():\n",
    "    offset = width * multiplier\n",
    "    rects = ax.bar(x + offset, eachClassCount, width, label = dataset)\n",
    "    ax.bar_label(rects, padding=3)\n",
    "    multiplier += 1\n",
    "    \n",
    "ax.set_ylabel('Quantity')\n",
    "ax.set_ylabel('Class')\n",
    "ax.set_title('Pizza or Not Pizza by Dataset')\n",
    "ax.set_xticks(x + width, classes)\n",
    "ax.legend(loc = 'center', ncols = 3)\n",
    "ax.set_ylim(0, 900)\n",
    "\n",
    "plt.show()"
   ]
  },
  {
   "cell_type": "markdown",
   "metadata": {},
   "source": [
    "# First attepmt to train\n",
    "- Lasso Regularization\n",
    "- CNN Network\n",
    "- 3 x 256 x 256 input size"
   ]
  },
  {
   "cell_type": "code",
   "execution_count": 8,
   "metadata": {},
   "outputs": [],
   "source": [
    "import torch\n",
    "import torch.nn as nn\n",
    "import torch.optim as optim\n",
    "\n",
    "import torchvision.transforms as transforms\n",
    "import torchvision.datasets as datasets\n",
    "import torchvision.transforms.functional as F\n",
    "from torchvision.transforms import v2\n",
    "\n",
    "import torchmetrics as metrics\n",
    "\n",
    "from sklearn.metrics import confusion_matrix, classification_report"
   ]
  },
  {
   "cell_type": "code",
   "execution_count": 53,
   "metadata": {},
   "outputs": [],
   "source": [
    "trainData = 'pizza-notpizza/train'\n",
    "valData = 'pizza-notpizza/val'\n",
    "testData = 'pizza-notpizza/test'"
   ]
  },
  {
   "cell_type": "code",
   "execution_count": 54,
   "metadata": {},
   "outputs": [],
   "source": [
    "trainTransforms = transforms.Compose([\n",
    "    transforms.Resize((256, 256)),\n",
    "    transforms.ToTensor(),\n",
    "    transforms.Normalize(mean=[0.5, 0.5, 0.5], std=[0.5, 0.5, 0.5])\n",
    "])\n",
    "\n",
    "valTestTransforms = transforms.Compose([\n",
    "    transforms.Resize((256, 256)),\n",
    "    transforms.ToTensor()\n",
    "])\n",
    "\n",
    "trainDataset = datasets.ImageFolder(trainData, transform=trainTransforms)\n",
    "valDataset = datasets.ImageFolder(valData, transform=valTestTransforms)\n",
    "testDataset = datasets.ImageFolder(testData, transform=valTestTransforms)"
   ]
  },
  {
   "cell_type": "code",
   "execution_count": 55,
   "metadata": {},
   "outputs": [
    {
     "name": "stdout",
     "output_type": "stream",
     "text": [
      "Class Name: not_pizza, Numeric Value: 0\n",
      "Class Name: pizza, Numeric Value: 1\n"
     ]
    }
   ],
   "source": [
    "class_to_idx = trainDataset.class_to_idx\n",
    "\n",
    "for label, value in class_to_idx.items():\n",
    "    print(f'Class Name: {label}, Numeric Value: {value}')"
   ]
  },
  {
   "cell_type": "code",
   "execution_count": 56,
   "metadata": {},
   "outputs": [
    {
     "data": {
      "text/plain": [
       "(tensor([[[-0.9922, -0.9843, -0.9843,  ..., -0.9843, -0.9843, -0.9843],\n",
       "          [-0.9843, -0.9843, -0.9843,  ..., -0.9922, -0.9922, -0.9922],\n",
       "          [-0.9373, -0.9373, -0.9294,  ..., -0.9843, -0.9843, -0.9922],\n",
       "          ...,\n",
       "          [-0.7176, -0.7020, -0.7098,  ..., -0.9843, -0.9843, -0.9843],\n",
       "          [-0.9608, -0.9686, -0.9608,  ..., -0.9922, -0.9922, -0.9922],\n",
       "          [-0.9922, -0.9922, -0.9843,  ..., -0.9922, -0.9922, -0.9922]],\n",
       " \n",
       "         [[-0.9922, -0.9843, -0.9843,  ..., -1.0000, -1.0000, -1.0000],\n",
       "          [-0.9843, -0.9843, -0.9843,  ..., -0.9922, -0.9922, -0.9922],\n",
       "          [-0.9765, -0.9686, -0.9686,  ..., -1.0000, -1.0000, -1.0000],\n",
       "          ...,\n",
       "          [-0.8275, -0.8196, -0.8196,  ..., -0.9922, -0.9922, -0.9922],\n",
       "          [-0.9922, -1.0000, -0.9922,  ..., -0.9922, -0.9922, -0.9922],\n",
       "          [-0.9843, -0.9922, -0.9765,  ..., -0.9922, -0.9922, -0.9922]],\n",
       " \n",
       "         [[-0.9765, -0.9765, -0.9765,  ..., -0.9922, -0.9922, -0.9922],\n",
       "          [-0.9922, -0.9922, -0.9922,  ..., -0.9765, -0.9765, -0.9765],\n",
       "          [-0.9843, -0.9843, -0.9843,  ..., -0.9608, -0.9608, -0.9608],\n",
       "          ...,\n",
       "          [-0.8745, -0.8667, -0.8824,  ..., -0.9608, -0.9608, -0.9608],\n",
       "          [-0.9608, -0.9765, -0.9843,  ..., -0.9686, -0.9686, -0.9686],\n",
       "          [-0.9843, -0.9922, -0.9922,  ..., -0.9922, -0.9922, -0.9922]]]),\n",
       " 0)"
      ]
     },
     "execution_count": 56,
     "metadata": {},
     "output_type": "execute_result"
    }
   ],
   "source": [
    "trainDataset[3]"
   ]
  },
  {
   "cell_type": "code",
   "execution_count": 57,
   "metadata": {},
   "outputs": [],
   "source": [
    "BATCH_SIZE = 16\n",
    "NUM_WORKERS = 4\n",
    "LEARNING_RATE = 0.0025\n",
    "WEIGHT_DECAY = 1e-5"
   ]
  },
  {
   "cell_type": "code",
   "execution_count": 58,
   "metadata": {},
   "outputs": [],
   "source": [
    "trainLoader = torch.utils.data.DataLoader(trainDataset, batch_size=BATCH_SIZE, shuffle=True, num_workers=NUM_WORKERS)\n",
    "valLoader = torch.utils.data.DataLoader(valDataset, batch_size=BATCH_SIZE, shuffle=True, num_workers=NUM_WORKERS)\n",
    "testLoader = torch.utils.data.DataLoader(testDataset, batch_size=BATCH_SIZE, shuffle=True, num_workers=NUM_WORKERS)"
   ]
  },
  {
   "cell_type": "code",
   "execution_count": 61,
   "metadata": {},
   "outputs": [],
   "source": [
    "class CNN(nn.Module):\n",
    "    def __init__(self):\n",
    "        super(CNN, self).__init__()\n",
    "        self.conv1 = nn.Conv2d(3, 32, kernel_size=3, stride=1, padding=1)\n",
    "        self.conv2 = nn.Conv2d(32, 64, kernel_size=3, stride=1, padding=1)\n",
    "        self.conv3 = nn.Conv2d(64, 128, kernel_size=3, stride=1, padding=1)\n",
    "        \n",
    "        self.fc1 = nn.Linear(128 * 32 * 32, 256)\n",
    "        self.fc2 = nn.Linear(256, 128)\n",
    "        self.fc3 = nn.Linear(128, 2)\n",
    "        \n",
    "        self.dropout = nn.Dropout(0.6)\n",
    "        self.pool = nn.MaxPool2d(kernel_size=2, stride=2)\n",
    "        \n",
    "    def forward(self, x):\n",
    "        x = self.pool(nn.functional.leaky_relu(self.conv1(x)))\n",
    "        x = self.pool(nn.functional.leaky_relu(self.conv2(x)))\n",
    "        x = self.pool(nn.functional.leaky_relu(self.conv3(x)))\n",
    "        \n",
    "        x = x.view(x.size(0), -1)\n",
    "        \n",
    "        x = nn.functional.leaky_relu(self.fc1(x))\n",
    "        x = self.dropout(x)\n",
    "        x = nn.functional.leaky_relu(self.fc2(x))\n",
    "        x = self.dropout(x)\n",
    "        x = self.fc3(x)\n",
    "        \n",
    "        return x"
   ]
  },
  {
   "cell_type": "code",
   "execution_count": 62,
   "metadata": {},
   "outputs": [
    {
     "name": "stdout",
     "output_type": "stream",
     "text": [
      "=== EPOCH [1]===\n",
      "    Loss: 0.7591472490869388 Accuracy: 55.470737913486005\n",
      "=== EPOCH [2]===\n",
      "    Loss: 0.6500231936724499 Accuracy: 65.26717557251908\n",
      "=== EPOCH [3]===\n",
      "    Loss: 0.616161340866426 Accuracy: 68.70229007633588\n",
      "=== EPOCH [4]===\n",
      "    Loss: 0.6444718946110118 Accuracy: 66.0941475826972\n",
      "=== EPOCH [5]===\n",
      "    Loss: 0.6270775325370558 Accuracy: 68.06615776081425\n",
      "=== EPOCH [6]===\n",
      "    Loss: 0.575353612502416 Accuracy: 71.2468193384224\n",
      "=== EPOCH [7]===\n",
      "    Loss: 0.5497876547201715 Accuracy: 74.36386768447836\n",
      "=== EPOCH [8]===\n",
      "    Loss: 0.5388901462458601 Accuracy: 74.30025445292621\n",
      "=== EPOCH [9]===\n",
      "    Loss: 0.5844134131465295 Accuracy: 71.81933842239185\n",
      "=== EPOCH [10]===\n",
      "    Loss: 0.5432953760780469 Accuracy: 74.23664122137404\n",
      "=== EPOCH [11]===\n",
      "    Loss: 0.5213058353072465 Accuracy: 75.89058524173028\n",
      "=== EPOCH [12]===\n",
      "    Loss: 0.5146653181073642 Accuracy: 75.89058524173028\n",
      "=== EPOCH [13]===\n",
      "    Loss: 0.4452986219766164 Accuracy: 80.08905852417303\n",
      "=== EPOCH [14]===\n",
      "    Loss: 0.4223894751583687 Accuracy: 80.470737913486\n",
      "=== EPOCH [15]===\n",
      "    Loss: 0.4231938805920307 Accuracy: 80.34351145038168\n",
      "=== EPOCH [16]===\n",
      "    Loss: 0.4584891540986119 Accuracy: 81.10687022900764\n",
      "=== EPOCH [17]===\n",
      "    Loss: 0.5206746626080889 Accuracy: 77.67175572519083\n",
      "=== EPOCH [18]===\n",
      "    Loss: 0.5056524525086085 Accuracy: 76.97201017811705\n",
      "=== EPOCH [19]===\n",
      "    Loss: 0.4441607599005555 Accuracy: 79.58015267175573\n",
      "=== EPOCH [20]===\n",
      "    Loss: 0.4110020563156918 Accuracy: 81.87022900763358\n",
      "=== EPOCH [21]===\n",
      "    Loss: 0.652021460460894 Accuracy: 78.37150127226464\n",
      "=== EPOCH [22]===\n",
      "    Loss: 1.1168302439077935 Accuracy: 63.61323155216285\n",
      "=== EPOCH [23]===\n",
      "    Loss: 0.8153034123507413 Accuracy: 59.35114503816794\n",
      "=== EPOCH [24]===\n",
      "    Loss: 0.6181131378568784 Accuracy: 69.14758269720102\n",
      "=== EPOCH [25]===\n",
      "    Loss: 0.6358898432567867 Accuracy: 66.34860050890585\n",
      "=== EPOCH [26]===\n",
      "    Loss: 2.193132461020441 Accuracy: 58.524173027989825\n",
      "=== EPOCH [27]===\n",
      "    Loss: 2.221796896609694 Accuracy: 50.82697201017812\n",
      "=== EPOCH [28]===\n",
      "    Loss: 1.3983302026083975 Accuracy: 54.07124681933842\n",
      "=== EPOCH [29]===\n",
      "    Loss: 0.8259844503017387 Accuracy: 51.717557251908396\n",
      "=== EPOCH [30]===\n",
      "    Loss: 0.6948725069412077 Accuracy: 61.1323155216285\n",
      "=== EPOCH [31]===\n",
      "    Loss: 0.6966365356035907 Accuracy: 59.096692111959285\n",
      "=== EPOCH [32]===\n",
      "    Loss: 0.6396116984613014 Accuracy: 66.47582697201018\n",
      "=== EPOCH [33]===\n",
      "    Loss: 0.6236495514108678 Accuracy: 68.76590330788804\n",
      "=== EPOCH [34]===\n",
      "    Loss: 0.5894662478957513 Accuracy: 69.78371501272265\n",
      "=== EPOCH [35]===\n",
      "    Loss: 0.5966122323515439 Accuracy: 70.5470737913486\n",
      "=== EPOCH [36]===\n",
      "    Loss: 0.592648899615413 Accuracy: 72.20101781170483\n",
      "=== EPOCH [37]===\n",
      "    Loss: 0.5358159433711659 Accuracy: 74.61832061068702\n",
      "=== EPOCH [38]===\n",
      "    Loss: 0.5684760664448594 Accuracy: 74.10941475826972\n",
      "=== EPOCH [39]===\n",
      "    Loss: 0.5356978740957048 Accuracy: 73.60050890585242\n",
      "=== EPOCH [40]===\n",
      "    Loss: 0.5290945286702629 Accuracy: 75.12722646310432\n",
      "=== EPOCH [41]===\n",
      "    Loss: 0.5063225089600591 Accuracy: 75.76335877862596\n",
      "=== EPOCH [42]===\n",
      "    Loss: 0.4909197623380507 Accuracy: 77.09923664122137\n",
      "=== EPOCH [43]===\n",
      "    Loss: 0.4955554288445097 Accuracy: 77.03562340966921\n",
      "=== EPOCH [44]===\n",
      "    Loss: 0.45449168648984695 Accuracy: 80.78880407124682\n",
      "=== EPOCH [45]===\n",
      "    Loss: 0.4694484251015114 Accuracy: 79.77099236641222\n",
      "=== EPOCH [46]===\n",
      "    Loss: 0.5263821949260403 Accuracy: 74.17302798982189\n",
      "=== EPOCH [47]===\n",
      "    Loss: 0.4920859932899475 Accuracy: 80.08905852417303\n",
      "=== EPOCH [48]===\n",
      "    Loss: 0.45920763292697947 Accuracy: 80.21628498727735\n",
      "=== EPOCH [49]===\n",
      "    Loss: 0.36495752753031374 Accuracy: 84.35114503816794\n",
      "=== EPOCH [50]===\n",
      "    Loss: 0.3669658287315432 Accuracy: 84.92366412213741\n",
      "FINISHED TRAINING!\n"
     ]
    }
   ],
   "source": [
    "model = CNN()\n",
    "\n",
    "device = torch.device('cuda' if torch.cuda.is_available() else 'cpu')\n",
    "model.to(device)\n",
    "\n",
    "criterion = nn.CrossEntropyLoss()\n",
    "optimizer = optim.Adam(model.parameters(), lr=LEARNING_RATE, weight_decay=WEIGHT_DECAY)\n",
    "\n",
    "trainLossHistory = []\n",
    "trainAccHistory = []\n",
    "\n",
    "for epoch in range(50):\n",
    "    model.train()\n",
    "    correct = 0\n",
    "    total = 0\n",
    "    running_loss = 0.0\n",
    "    \n",
    "    for i, data in enumerate(trainLoader, 0):\n",
    "        inputs, labels = data\n",
    "        inputs, labels = inputs.to(device), labels.to(device)\n",
    "        \n",
    "        optimizer.zero_grad()\n",
    "        \n",
    "        outputs = model(inputs)\n",
    "        loss = criterion(outputs, labels)\n",
    "        loss.backward()\n",
    "        optimizer.step()\n",
    "        \n",
    "        running_loss += loss.item()\n",
    "        _, predicted = outputs.max(1)\n",
    "        total += labels.size(0)\n",
    "        correct += predicted.eq(labels).sum().item()\n",
    "        \n",
    "        if i % 1000 == 999:\n",
    "            print(f'[{epoch + 1}, {i + 1} Loss: {running_loss / 1000}]')\n",
    "            running_loss = 0.0\n",
    "            \n",
    "    epoch_loss = running_loss / len(trainLoader)\n",
    "    epoch_acc = 100 * correct / total\n",
    "    trainLossHistory.append(epoch_loss)\n",
    "    trainAccHistory.append(epoch_acc)\n",
    "    \n",
    "    print(f'=== EPOCH [{epoch + 1}]===\\n    Loss: {epoch_loss} Accuracy: {epoch_acc}')\n",
    "    \n",
    "print('FINISHED TRAINING!')"
   ]
  },
  {
   "cell_type": "code",
   "execution_count": 63,
   "metadata": {},
   "outputs": [
    {
     "ename": "NameError",
     "evalue": "name 'train_loss_history' is not defined",
     "output_type": "error",
     "traceback": [
      "\u001b[0;31m---------------------------------------------------------------------------\u001b[0m",
      "\u001b[0;31mNameError\u001b[0m                                 Traceback (most recent call last)",
      "Cell \u001b[0;32mIn[63], line 3\u001b[0m\n\u001b[1;32m      1\u001b[0m plt\u001b[38;5;241m.\u001b[39mfigure(figsize\u001b[38;5;241m=\u001b[39m(\u001b[38;5;241m10\u001b[39m,\u001b[38;5;241m4\u001b[39m))\n\u001b[1;32m      2\u001b[0m plt\u001b[38;5;241m.\u001b[39msubplot(\u001b[38;5;241m1\u001b[39m,\u001b[38;5;241m2\u001b[39m,\u001b[38;5;241m1\u001b[39m)\n\u001b[0;32m----> 3\u001b[0m plt\u001b[38;5;241m.\u001b[39mplot(\u001b[38;5;28mrange\u001b[39m(\u001b[38;5;241m1\u001b[39m, \u001b[38;5;28mlen\u001b[39m(\u001b[43mtrain_loss_history\u001b[49m) \u001b[38;5;241m+\u001b[39m \u001b[38;5;241m1\u001b[39m), train_loss_history, color\u001b[38;5;241m=\u001b[39m\u001b[38;5;124m'\u001b[39m\u001b[38;5;124mgreen\u001b[39m\u001b[38;5;124m'\u001b[39m, label\u001b[38;5;241m=\u001b[39m\u001b[38;5;124m'\u001b[39m\u001b[38;5;124mTraining Loss\u001b[39m\u001b[38;5;124m'\u001b[39m)\n\u001b[1;32m      4\u001b[0m plt\u001b[38;5;241m.\u001b[39mxlabel(\u001b[38;5;124m'\u001b[39m\u001b[38;5;124mEpoch\u001b[39m\u001b[38;5;124m'\u001b[39m)\n\u001b[1;32m      5\u001b[0m plt\u001b[38;5;241m.\u001b[39mylabel(\u001b[38;5;124m'\u001b[39m\u001b[38;5;124mLoss\u001b[39m\u001b[38;5;124m'\u001b[39m)\n",
      "\u001b[0;31mNameError\u001b[0m: name 'train_loss_history' is not defined"
     ]
    },
    {
     "data": {
      "image/png": "[encoded data removed]",
      "text/plain": [
       "<Figure size 1000x400 with 1 Axes>"
      ]
     },
     "metadata": {},
     "output_type": "display_data"
    }
   ],
   "source": [
    "plt.figure(figsize=(10,4))\n",
    "plt.subplot(1,2,1)\n",
    "plt.plot(range(1, len(train_loss_history) + 1), train_loss_history, color='green', label='Training Loss')\n",
    "plt.xlabel('Epoch')\n",
    "plt.ylabel('Loss')\n",
    "plt.suptitle('Training Loss')\n",
    "plt.legend()\n",
    "\n",
    "plt.subplot(1, 2, 2)\n",
    "plt.plot(range(1, len(train_accuracy_history) + 1), train_accuracy_history, color='pink', label='Training Accuracy')\n",
    "plt.xlabel('Epoch')\n",
    "plt.ylabel('Accuracy [%]')\n",
    "plt.suptitle('Training Accuracy')\n",
    "plt.legend()\n",
    "\n",
    "plt.tight_layout()\n",
    "plt.show()"
   ]
  },
  {
   "cell_type": "code",
   "execution_count": null,
   "metadata": {},
   "outputs": [],
   "source": []
  }
 ],
 "metadata": {
  "kernelspec": {
   "display_name": "wtum",
   "language": "python",
   "name": "python3"
  },
  "language_info": {
   "codemirror_mode": {
    "name": "ipython",
    "version": 3
   },
   "file_extension": ".py",
   "mimetype": "text/x-python",
   "name": "python",
   "nbconvert_exporter": "python",
   "pygments_lexer": "ipython3",
   "version": "3.11.6"
  }
 },
 "nbformat": 4,
 "nbformat_minor": 2
}
